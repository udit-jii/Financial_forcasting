{
 "cells": [
  {
   "cell_type": "code",
   "execution_count": 23,
   "id": "79166ca9-b618-4f92-a339-a3ebebb6b06f",
   "metadata": {},
   "outputs": [],
   "source": [
    "import pandas as pd\n",
    "import numpy as np\n",
    "nifty_data = pd.read_csv('Nifty 50 Historical Data.csv')\n",
    "tata_data = pd.read_csv('TAMO Historical Data (1).csv')\n",
    "tata_mreturns = []\n",
    "for i in range(12):\n",
    "    nextm= tata_data['Open'].iloc[i+1]\n",
    "    currentm= tata_data['Open'].iloc[i]\n",
    "    m_returns = (currentm-nextm)/currentm\n",
    "    tata_mreturns.append(m_returns)\n",
    "nifty_mreturns = []\n",
    "for i in range(12):\n",
    "    nextm= nifty_data['Open'].iloc[i+1]\n",
    "    currentm= nifty_data['Open'].iloc[i]\n",
    "    m_returns = (currentm-nextm)/currentm\n",
    "    nifty_mreturns.append(m_returns)"
   ]
  },
  {
   "cell_type": "code",
   "execution_count": 24,
   "id": "113b969a-8bcb-421e-af43-ed5f9711fd20",
   "metadata": {},
   "outputs": [],
   "source": [
    "R_b=np.mean(nifty_mreturns)\n",
    "R_p=np.mean(tata_mreturns)"
   ]
  },
  {
   "cell_type": "code",
   "execution_count": 25,
   "id": "1527981f-8235-4389-aa97-1550242d648e",
   "metadata": {},
   "outputs": [],
   "source": [
    "sum=0\n",
    "for i in range(12):\n",
    "    t=tata_mreturns[i]-R_p\n",
    "    n=nifty_mreturns[i]-R_b\n",
    "    product= t*n\n",
    "    sum+=product\n",
    "covariance = sum/11"
   ]
  },
  {
   "cell_type": "code",
   "execution_count": 26,
   "id": "4b032083-544c-4ba1-b403-40e1b5fe97bf",
   "metadata": {},
   "outputs": [
    {
     "name": "stdout",
     "output_type": "stream",
     "text": [
      "BETA FOR TAMO = 1.4684513671815185.\n"
     ]
    }
   ],
   "source": [
    "variance_n= np.var(nifty_mreturns,ddof=1)\n",
    "beta_tata= covariance/variance_n\n",
    "print(f\"BETA FOR TAMO = {beta_tata}.\")"
   ]
  },
  {
   "cell_type": "code",
   "execution_count": 27,
   "id": "1d04a860-f595-4165-abac-d2e60f4ea498",
   "metadata": {},
   "outputs": [
    {
     "name": "stdout",
     "output_type": "stream",
     "text": [
      "ALPHA FOR TAMO = 0.040227616605210376.\n"
     ]
    }
   ],
   "source": [
    "R_f= 0.07015/12\n",
    "alpha_tata= R_p-(R_f +beta_tata*(R_b-R_f))\n",
    "print(f\"ALPHA FOR TAMO = {alpha_tata}.\")"
   ]
  },
  {
   "cell_type": "code",
   "execution_count": 29,
   "id": "28342fa3-cf17-4b69-8642-0b8625e09b13",
   "metadata": {},
   "outputs": [
    {
     "name": "stdout",
     "output_type": "stream",
     "text": [
      "SHARPE RATIO FOR TAMO = 1.060473701451806.\n",
      "SHARPE RATIO FOR NIFTY50 = 0.4979808101214389.\n",
      "ANNUALISED SHARPE RATIO FOR TAMO = 3.6735886620103138.\n",
      "ANNUALISED SHARPE RATIO FOR NIFTY50 = 1.7250561286492838.\n"
     ]
    }
   ],
   "source": [
    "sd_tata=np.std(tata_mreturns, ddof=1)\n",
    "sd_nifty=np.std(nifty_mreturns, ddof=1)\n",
    "sharpe_ratio_tata= (R_p-R_f)/sd_tata\n",
    "sharpe_ratio_nifty= (R_b-R_f)/sd_nifty\n",
    "annualised_sratio_tata =sharpe_ratio_tata *np.sqrt(12)\n",
    "annualised_sratio_nifty =sharpe_ratio_nifty *np.sqrt(12)\n",
    "print(f\"SHARPE RATIO FOR TAMO = {sharpe_ratio_tata}.\")\n",
    "print(f\"SHARPE RATIO FOR NIFTY50 = {sharpe_ratio_nifty}.\")\n",
    "print(f\"ANNUALISED SHARPE RATIO FOR TAMO = {annualised_sratio_tata}.\")\n",
    "print(f\"ANNUALISED SHARPE RATIO FOR NIFTY50 = {annualised_sratio_nifty}.\")"
   ]
  },
  {
   "cell_type": "code",
   "execution_count": 30,
   "id": "a7636f06-d830-4cbb-aef2-3543114abc92",
   "metadata": {},
   "outputs": [
    {
     "name": "stdout",
     "output_type": "stream",
     "text": [
      "MAX DRAWDOWN FOR TAMO = -57.699715122577544.\n",
      "MAX DRAWDOWN FOR NIFTY50 = -22.38721888220886.\n"
     ]
    }
   ],
   "source": [
    "data1= tata_data['Open']\n",
    "peaks=data1.cummax()\n",
    "drawdown_tata = (data1-peaks)/peaks\n",
    "max_drawdown_tata=drawdown_tata.min()\n",
    "data2= nifty_data['Open']\n",
    "peaks2=data2.cummax()\n",
    "drawdown_nifty = (data2-peaks2)/peaks2\n",
    "max_drawdown_nifty=drawdown_nifty.min()\n",
    "print(f\"MAX DRAWDOWN FOR TAMO = {max_drawdown_tata*100}.\")\n",
    "print(f\"MAX DRAWDOWN FOR NIFTY50 = {max_drawdown_nifty*100}.\")"
   ]
  },
  {
   "cell_type": "code",
   "execution_count": null,
   "id": "27a0d595-8b8f-4875-856a-0342c9e41dc6",
   "metadata": {},
   "outputs": [],
   "source": []
  }
 ],
 "metadata": {
  "kernelspec": {
   "display_name": "Python 3 (ipykernel)",
   "language": "python",
   "name": "python3"
  },
  "language_info": {
   "codemirror_mode": {
    "name": "ipython",
    "version": 3
   },
   "file_extension": ".py",
   "mimetype": "text/x-python",
   "name": "python",
   "nbconvert_exporter": "python",
   "pygments_lexer": "ipython3",
   "version": "3.13.1"
  }
 },
 "nbformat": 4,
 "nbformat_minor": 5
}
