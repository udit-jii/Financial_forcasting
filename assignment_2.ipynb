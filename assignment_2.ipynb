{
 "cells": [
  {
   "cell_type": "code",
   "execution_count": 44,
   "id": "5562e9fd-d03f-4e1e-a9b0-30adc3ed741e",
   "metadata": {},
   "outputs": [
    {
     "name": "stdout",
     "output_type": "stream",
     "text": [
      "All dates are in format dd-mm-yyyy\n"
     ]
    },
    {
     "name": "stdin",
     "output_type": "stream",
     "text": [
      "Last traded (dirty) price =  1032\n",
      "Face Value =  1000\n",
      "Coupon rate =  0.1275\n",
      "Coupon frequency =  1\n",
      "Maturity date =  1-04-2019\n",
      "Current date =  14-07-2014\n",
      "Recent past coupon payment date =  1-04-2014\n",
      "Next coupon payment date =  1-04-2015\n"
     ]
    }
   ],
   "source": [
    "from datetime import datetime as dt\n",
    "print(\"All dates are in format dd-mm-yyyy\")\n",
    "P_D= input(\"Last traded (dirty) price = \")\n",
    "P_T= input(\"Face Value = \")\n",
    "r_C= input(\"Coupon rate = \")\n",
    "m= input(\"Coupon frequency = \")\n",
    "T= input(\"Maturity date = \")\n",
    "t= input(\"Current date = \")\n",
    "p= input(\"Recent past coupon payment date = \")\n",
    "P= input(\"Next coupon payment date = \")"
   ]
  },
  {
   "cell_type": "code",
   "execution_count": 45,
   "id": "5fd7027e-6781-4adc-bc67-51769507aee4",
   "metadata": {},
   "outputs": [
    {
     "name": "stdout",
     "output_type": "stream",
     "text": [
      "365\n"
     ]
    }
   ],
   "source": [
    "M_d=dt.strptime(T, \"%d-%m-%Y\").date()\n",
    "C_d=dt.strptime(t, \"%d-%m-%Y\").date()\n",
    "past_d=dt.strptime(p, \"%d-%m-%Y\").date()\n",
    "next_d= dt.strptime(P, \"%d-%m-%Y\").date()\n",
    "coupon= float(r_C) *float(P_T)\n",
    "mm=(next_d-past_d).days\n",
    "print(mm)"
   ]
  },
  {
   "cell_type": "code",
   "execution_count": 46,
   "id": "24b3d99b-bf48-4195-aa14-7b883947294c",
   "metadata": {},
   "outputs": [
    {
     "name": "stdout",
     "output_type": "stream",
     "text": [
      "995.6712328767123\n",
      "1826\n",
      "5\n"
     ]
    }
   ],
   "source": [
    "num=C_d-past_d\n",
    "den=next_d-past_d\n",
    "acc_int =float(num/den)*(coupon/(float (m)))\n",
    "clean_price=float(P_D)-acc_int\n",
    "diff=M_d-past_d\n",
    "diff2= diff.days\n",
    "n= (int((diff2+1)/mm))\n",
    "print(clean_price)\n",
    "print(diff2)\n",
    "print(n)"
   ]
  },
  {
   "cell_type": "code",
   "execution_count": 47,
   "id": "bddf34e5-058b-4e2e-9fdc-83b9a52b5f5e",
   "metadata": {},
   "outputs": [
    {
     "name": "stdout",
     "output_type": "stream",
     "text": [
      "1127.5*x**5 + 127.5*x**4 + 127.5*x**3 + 127.5*x**2 + 127.5*x - 995.671232876712\n",
      "5637.5*x**4 + 510.0*x**3 + 382.5*x**2 + 255.0*x + 127.5\n"
     ]
    }
   ],
   "source": [
    "from sympy import symbols, diff\n",
    "x= symbols('x')\n",
    "sum=0\n",
    "for i in range(1, n+1):\n",
    "    sum+=(float(coupon)/float(m)) * x**i\n",
    "f = (int(P_T)) * x**n +sum - clean_price\n",
    "print(f)\n",
    "derivative = diff(f, x)\n",
    "print(derivative)"
   ]
  },
  {
   "cell_type": "code",
   "execution_count": 48,
   "id": "cacf156c-8764-4c22-8141-c39a47b6b46d",
   "metadata": {},
   "outputs": [
    {
     "name": "stdout",
     "output_type": "stream",
     "text": [
      "0.1275\n",
      "0.917048708851059\n"
     ]
    }
   ],
   "source": [
    "x_1=float(r_C)\n",
    "print(x_1)\n",
    "for i in range(10):\n",
    "    f_valued= f.subs(x,x_1)\n",
    "    f2_valued= derivative.subs(x,x_1)\n",
    "    x_2= x_1 - (f_valued/f2_valued)\n",
    "    x_1=x_2\n",
    "print(x_1)"
   ]
  },
  {
   "cell_type": "code",
   "execution_count": 49,
   "id": "114dd1e9-70fa-4f05-bcac-dad993bcd35a",
   "metadata": {},
   "outputs": [
    {
     "name": "stdout",
     "output_type": "stream",
     "text": [
      "9.04546185478721%\n"
     ]
    }
   ],
   "source": [
    "rate= (1/x_1)-1\n",
    "print(f\"{rate*100}%\")"
   ]
  },
  {
   "cell_type": "code",
   "execution_count": null,
   "id": "46beb308-cdf0-4cee-9122-3fe2656331c0",
   "metadata": {},
   "outputs": [],
   "source": []
  }
 ],
 "metadata": {
  "kernelspec": {
   "display_name": "Python 3 (ipykernel)",
   "language": "python",
   "name": "python3"
  },
  "language_info": {
   "codemirror_mode": {
    "name": "ipython",
    "version": 3
   },
   "file_extension": ".py",
   "mimetype": "text/x-python",
   "name": "python",
   "nbconvert_exporter": "python",
   "pygments_lexer": "ipython3",
   "version": "3.13.1"
  }
 },
 "nbformat": 4,
 "nbformat_minor": 5
}
