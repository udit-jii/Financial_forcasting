{
 "cells": [
  {
   "cell_type": "code",
   "execution_count": 4,
   "id": "fb8424b7-cf17-4e02-b03b-d052dc964646",
   "metadata": {},
   "outputs": [
    {
     "name": "stdout",
     "output_type": "stream",
     "text": [
      "Call Price: 17712.02\n",
      "Put Price: 0.00\n"
     ]
    }
   ],
   "source": [
    "import numpy as np\n",
    "from scipy.stats import norm\n",
    "import pandas as pd\n",
    "\n",
    "class BlackScholesModel:\n",
    "    def __init__(self, spot_price, strike_price, time_to_expiry, risk_free_rate, volatility):\n",
    "        \"\"\"\n",
    "        Initialize the Black-Scholes model with given parameters.\n",
    "        \"\"\"\n",
    "        self.S = spot_price  \n",
    "        self.K = strike_price  \n",
    "        self.T = time_to_expiry \n",
    "        self.r = risk_free_rate  \n",
    "        self.sigma = volatility  \n",
    "    def d1(self):\n",
    "        \"\"\"\n",
    "        Calculate d1 in the Black-Scholes formula.\n",
    "        \"\"\"\n",
    "        return (np.log(self.S / self.K) + (self.r + 0.5 * self.sigma ** 2) * self.T) / (self.sigma * np.sqrt(self.T))\n",
    "    \n",
    "    def d2(self):\n",
    "        \"\"\"\n",
    "        Calculate d2 in the Black-Scholes formula.\n",
    "        \"\"\"\n",
    "        return self.d1() - self.sigma * np.sqrt(self.T)\n",
    "    \n",
    "    def call_price(self):\n",
    "        \"\"\"\n",
    "        Calculate the call option price using the Black-Scholes formula.\n",
    "        \"\"\"\n",
    "        d1 = self.d1()\n",
    "        d2 = self.d2()\n",
    "        return self.S * norm.cdf(d1) - self.K * np.exp(-self.r * self.T) * norm.cdf(d2)\n",
    "    \n",
    "    def put_price(self):\n",
    "        \"\"\"\n",
    "        Calculate the put option price using the Black-Scholes formula.\n",
    "        \"\"\"\n",
    "        d1 = self.d1()\n",
    "        d2 = self.d2()\n",
    "        return self.K * np.exp(-self.r * self.T) * norm.cdf(-d2) - self.S * norm.cdf(-d1)\n",
    "r = 0.07  \n",
    "sigma = 0.15  \n",
    "expiry_date = pd.Timestamp(\"2023-02-23\")\n",
    "current_date = pd.Timestamp(\"2023-02-01\")\n",
    "T = (expiry_date - current_date).days / 365.0\n",
    "spot_price_data_path = \"NIFTY50_1min_01FEB.csv\"\n",
    "spot_prices = pd.read_csv(spot_price_data_path)\n",
    "strike_price = 100\n",
    "spot_price = spot_prices['Close'].iloc[0]  \n",
    "\n",
    "bs_model = BlackScholesModel(spot_price, strike_price, T, r, sigma)\n",
    "call_price = bs_model.call_price()\n",
    "put_price = bs_model.put_price()\n",
    "\n",
    "print(f\"Call Price: {call_price:.2f}\")\n",
    "print(f\"Put Price: {put_price:.2f}\")\n"
   ]
  },
  {
   "cell_type": "code",
   "execution_count": null,
   "id": "e43f31a7-34fb-4c41-a870-197d96adba8a",
   "metadata": {},
   "outputs": [],
   "source": []
  }
 ],
 "metadata": {
  "kernelspec": {
   "display_name": "Python 3 (ipykernel)",
   "language": "python",
   "name": "python3"
  },
  "language_info": {
   "codemirror_mode": {
    "name": "ipython",
    "version": 3
   },
   "file_extension": ".py",
   "mimetype": "text/x-python",
   "name": "python",
   "nbconvert_exporter": "python",
   "pygments_lexer": "ipython3",
   "version": "3.13.1"
  }
 },
 "nbformat": 4,
 "nbformat_minor": 5
}
